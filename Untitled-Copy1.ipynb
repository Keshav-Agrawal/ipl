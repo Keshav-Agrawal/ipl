{
 "cells": [
  {
   "cell_type": "markdown",
   "metadata": {},
   "source": [
    "# Importing all the required libraries"
   ]
  },
  {
   "cell_type": "code",
   "execution_count": 1,
   "metadata": {
    "ExecuteTime": {
     "end_time": "2021-01-12T11:50:44.988293Z",
     "start_time": "2021-01-12T11:50:43.267675Z"
    }
   },
   "outputs": [],
   "source": [
    "import pandas as pd\n",
    "import numpy as np\n",
    "import seaborn as sns\n",
    "import matplotlib.pyplot as plt\n",
    "%matplotlib inline"
   ]
  },
  {
   "cell_type": "markdown",
   "metadata": {},
   "source": [
    "# Importing the Dataset"
   ]
  },
  {
   "cell_type": "code",
   "execution_count": 2,
   "metadata": {
    "ExecuteTime": {
     "end_time": "2021-01-12T11:50:45.194132Z",
     "start_time": "2021-01-12T11:50:44.992249Z"
    }
   },
   "outputs": [],
   "source": [
    "df=pd.read_csv('ipl.csv')"
   ]
  },
  {
   "cell_type": "markdown",
   "metadata": {},
   "source": [
    "# Performing EDA"
   ]
  },
  {
   "cell_type": "code",
   "execution_count": 3,
   "metadata": {
    "ExecuteTime": {
     "end_time": "2021-01-12T11:50:45.233135Z",
     "start_time": "2021-01-12T11:50:45.198130Z"
    }
   },
   "outputs": [
    {
     "data": {
      "text/html": [
       "<div>\n",
       "<style scoped>\n",
       "    .dataframe tbody tr th:only-of-type {\n",
       "        vertical-align: middle;\n",
       "    }\n",
       "\n",
       "    .dataframe tbody tr th {\n",
       "        vertical-align: top;\n",
       "    }\n",
       "\n",
       "    .dataframe thead th {\n",
       "        text-align: right;\n",
       "    }\n",
       "</style>\n",
       "<table border=\"1\" class=\"dataframe\">\n",
       "  <thead>\n",
       "    <tr style=\"text-align: right;\">\n",
       "      <th></th>\n",
       "      <th>mid</th>\n",
       "      <th>date</th>\n",
       "      <th>venue</th>\n",
       "      <th>bat_team</th>\n",
       "      <th>bowl_team</th>\n",
       "      <th>batsman</th>\n",
       "      <th>bowler</th>\n",
       "      <th>runs</th>\n",
       "      <th>wickets</th>\n",
       "      <th>overs</th>\n",
       "      <th>runs_last_5</th>\n",
       "      <th>wickets_last_5</th>\n",
       "      <th>striker</th>\n",
       "      <th>non-striker</th>\n",
       "      <th>total</th>\n",
       "    </tr>\n",
       "  </thead>\n",
       "  <tbody>\n",
       "    <tr>\n",
       "      <th>0</th>\n",
       "      <td>1</td>\n",
       "      <td>2008-04-18</td>\n",
       "      <td>M Chinnaswamy Stadium</td>\n",
       "      <td>Kolkata Knight Riders</td>\n",
       "      <td>Royal Challengers Bangalore</td>\n",
       "      <td>SC Ganguly</td>\n",
       "      <td>P Kumar</td>\n",
       "      <td>1</td>\n",
       "      <td>0</td>\n",
       "      <td>0.1</td>\n",
       "      <td>1</td>\n",
       "      <td>0</td>\n",
       "      <td>0</td>\n",
       "      <td>0</td>\n",
       "      <td>222</td>\n",
       "    </tr>\n",
       "    <tr>\n",
       "      <th>1</th>\n",
       "      <td>1</td>\n",
       "      <td>2008-04-18</td>\n",
       "      <td>M Chinnaswamy Stadium</td>\n",
       "      <td>Kolkata Knight Riders</td>\n",
       "      <td>Royal Challengers Bangalore</td>\n",
       "      <td>BB McCullum</td>\n",
       "      <td>P Kumar</td>\n",
       "      <td>1</td>\n",
       "      <td>0</td>\n",
       "      <td>0.2</td>\n",
       "      <td>1</td>\n",
       "      <td>0</td>\n",
       "      <td>0</td>\n",
       "      <td>0</td>\n",
       "      <td>222</td>\n",
       "    </tr>\n",
       "    <tr>\n",
       "      <th>2</th>\n",
       "      <td>1</td>\n",
       "      <td>2008-04-18</td>\n",
       "      <td>M Chinnaswamy Stadium</td>\n",
       "      <td>Kolkata Knight Riders</td>\n",
       "      <td>Royal Challengers Bangalore</td>\n",
       "      <td>BB McCullum</td>\n",
       "      <td>P Kumar</td>\n",
       "      <td>2</td>\n",
       "      <td>0</td>\n",
       "      <td>0.2</td>\n",
       "      <td>2</td>\n",
       "      <td>0</td>\n",
       "      <td>0</td>\n",
       "      <td>0</td>\n",
       "      <td>222</td>\n",
       "    </tr>\n",
       "    <tr>\n",
       "      <th>3</th>\n",
       "      <td>1</td>\n",
       "      <td>2008-04-18</td>\n",
       "      <td>M Chinnaswamy Stadium</td>\n",
       "      <td>Kolkata Knight Riders</td>\n",
       "      <td>Royal Challengers Bangalore</td>\n",
       "      <td>BB McCullum</td>\n",
       "      <td>P Kumar</td>\n",
       "      <td>2</td>\n",
       "      <td>0</td>\n",
       "      <td>0.3</td>\n",
       "      <td>2</td>\n",
       "      <td>0</td>\n",
       "      <td>0</td>\n",
       "      <td>0</td>\n",
       "      <td>222</td>\n",
       "    </tr>\n",
       "    <tr>\n",
       "      <th>4</th>\n",
       "      <td>1</td>\n",
       "      <td>2008-04-18</td>\n",
       "      <td>M Chinnaswamy Stadium</td>\n",
       "      <td>Kolkata Knight Riders</td>\n",
       "      <td>Royal Challengers Bangalore</td>\n",
       "      <td>BB McCullum</td>\n",
       "      <td>P Kumar</td>\n",
       "      <td>2</td>\n",
       "      <td>0</td>\n",
       "      <td>0.4</td>\n",
       "      <td>2</td>\n",
       "      <td>0</td>\n",
       "      <td>0</td>\n",
       "      <td>0</td>\n",
       "      <td>222</td>\n",
       "    </tr>\n",
       "  </tbody>\n",
       "</table>\n",
       "</div>"
      ],
      "text/plain": [
       "   mid        date                  venue               bat_team  \\\n",
       "0    1  2008-04-18  M Chinnaswamy Stadium  Kolkata Knight Riders   \n",
       "1    1  2008-04-18  M Chinnaswamy Stadium  Kolkata Knight Riders   \n",
       "2    1  2008-04-18  M Chinnaswamy Stadium  Kolkata Knight Riders   \n",
       "3    1  2008-04-18  M Chinnaswamy Stadium  Kolkata Knight Riders   \n",
       "4    1  2008-04-18  M Chinnaswamy Stadium  Kolkata Knight Riders   \n",
       "\n",
       "                     bowl_team      batsman   bowler  runs  wickets  overs  \\\n",
       "0  Royal Challengers Bangalore   SC Ganguly  P Kumar     1        0    0.1   \n",
       "1  Royal Challengers Bangalore  BB McCullum  P Kumar     1        0    0.2   \n",
       "2  Royal Challengers Bangalore  BB McCullum  P Kumar     2        0    0.2   \n",
       "3  Royal Challengers Bangalore  BB McCullum  P Kumar     2        0    0.3   \n",
       "4  Royal Challengers Bangalore  BB McCullum  P Kumar     2        0    0.4   \n",
       "\n",
       "   runs_last_5  wickets_last_5  striker  non-striker  total  \n",
       "0            1               0        0            0    222  \n",
       "1            1               0        0            0    222  \n",
       "2            2               0        0            0    222  \n",
       "3            2               0        0            0    222  \n",
       "4            2               0        0            0    222  "
      ]
     },
     "execution_count": 3,
     "metadata": {},
     "output_type": "execute_result"
    }
   ],
   "source": [
    "df.head()"
   ]
  },
  {
   "cell_type": "code",
   "execution_count": 4,
   "metadata": {
    "ExecuteTime": {
     "end_time": "2021-01-12T11:50:45.347305Z",
     "start_time": "2021-01-12T11:50:45.237108Z"
    }
   },
   "outputs": [
    {
     "data": {
      "text/plain": [
       "array(['M Chinnaswamy Stadium',\n",
       "       'Punjab Cricket Association Stadium, Mohali', 'Feroz Shah Kotla',\n",
       "       'Wankhede Stadium', 'Eden Gardens', 'Sawai Mansingh Stadium',\n",
       "       'Rajiv Gandhi International Stadium, Uppal',\n",
       "       'MA Chidambaram Stadium, Chepauk', 'Dr DY Patil Sports Academy',\n",
       "       'Newlands', \"St George's Park\", 'Kingsmead', 'SuperSport Park',\n",
       "       'Buffalo Park', 'New Wanderers Stadium', 'De Beers Diamond Oval',\n",
       "       'OUTsurance Oval', 'Brabourne Stadium',\n",
       "       'Sardar Patel Stadium, Motera', 'Barabati Stadium',\n",
       "       'Vidarbha Cricket Association Stadium, Jamtha',\n",
       "       'Himachal Pradesh Cricket Association Stadium', 'Nehru Stadium',\n",
       "       'Holkar Cricket Stadium',\n",
       "       'Dr. Y.S. Rajasekhara Reddy ACA-VDCA Cricket Stadium',\n",
       "       'Subrata Roy Sahara Stadium',\n",
       "       'Shaheed Veer Narayan Singh International Stadium',\n",
       "       'JSCA International Stadium Complex', 'Sheikh Zayed Stadium',\n",
       "       'Sharjah Cricket Stadium', 'Dubai International Cricket Stadium',\n",
       "       'Maharashtra Cricket Association Stadium',\n",
       "       'Punjab Cricket Association IS Bindra Stadium, Mohali',\n",
       "       'Saurashtra Cricket Association Stadium', 'Green Park'],\n",
       "      dtype=object)"
      ]
     },
     "execution_count": 4,
     "metadata": {},
     "output_type": "execute_result"
    }
   ],
   "source": [
    "df.venue.unique()"
   ]
  },
  {
   "cell_type": "markdown",
   "metadata": {},
   "source": [
    "## Encoding date colunm and dropig the date"
   ]
  },
  {
   "cell_type": "code",
   "execution_count": 5,
   "metadata": {
    "ExecuteTime": {
     "end_time": "2021-01-12T11:50:45.491323Z",
     "start_time": "2021-01-12T11:50:45.353301Z"
    }
   },
   "outputs": [],
   "source": [
    "df['Year']=pd.to_datetime(df['date'],format='%Y-%m-%d').dt.year\n",
    "df['Month']=pd.to_datetime(df['date'],format='%Y-%m-%d').dt.month\n",
    "df['Date']=pd.to_datetime(df['date'],format='%Y-%m-%d').dt.day"
   ]
  },
  {
   "cell_type": "code",
   "execution_count": 6,
   "metadata": {
    "ExecuteTime": {
     "end_time": "2021-01-12T11:50:45.541384Z",
     "start_time": "2021-01-12T11:50:45.495321Z"
    }
   },
   "outputs": [],
   "source": [
    "df.drop(['batsman','bowler','striker','non-striker'],axis=1,inplace=True)\n",
    "df.drop(['date','mid'],axis=1,inplace=True)"
   ]
  },
  {
   "cell_type": "code",
   "execution_count": 7,
   "metadata": {
    "ExecuteTime": {
     "end_time": "2021-01-12T11:50:45.638434Z",
     "start_time": "2021-01-12T11:50:45.544381Z"
    }
   },
   "outputs": [],
   "source": [
    "consistent_teams = ['Kolkata Knight Riders', 'Chennai Super Kings', 'Rajasthan Royals',\n",
    "                    'Mumbai Indians', 'Kings XI Punjab', 'Royal Challengers Bangalore',\n",
    "                    'Delhi Daredevils', 'Sunrisers Hyderabad']\n",
    "df = df[(df['bat_team'].isin(consistent_teams)) & (df['bowl_team'].isin(consistent_teams))]\n",
    "df=df[df['overs']>=5.0]"
   ]
  },
  {
   "cell_type": "code",
   "execution_count": 8,
   "metadata": {
    "ExecuteTime": {
     "end_time": "2021-01-12T11:50:45.740802Z",
     "start_time": "2021-01-12T11:50:45.642423Z"
    }
   },
   "outputs": [
    {
     "data": {
      "text/html": [
       "<div>\n",
       "<style scoped>\n",
       "    .dataframe tbody tr th:only-of-type {\n",
       "        vertical-align: middle;\n",
       "    }\n",
       "\n",
       "    .dataframe tbody tr th {\n",
       "        vertical-align: top;\n",
       "    }\n",
       "\n",
       "    .dataframe thead th {\n",
       "        text-align: right;\n",
       "    }\n",
       "</style>\n",
       "<table border=\"1\" class=\"dataframe\">\n",
       "  <thead>\n",
       "    <tr style=\"text-align: right;\">\n",
       "      <th></th>\n",
       "      <th>venue</th>\n",
       "      <th>bat_team</th>\n",
       "      <th>bowl_team</th>\n",
       "      <th>runs</th>\n",
       "      <th>wickets</th>\n",
       "      <th>overs</th>\n",
       "      <th>runs_last_5</th>\n",
       "      <th>wickets_last_5</th>\n",
       "      <th>total</th>\n",
       "      <th>Year</th>\n",
       "      <th>Month</th>\n",
       "      <th>Date</th>\n",
       "    </tr>\n",
       "  </thead>\n",
       "  <tbody>\n",
       "    <tr>\n",
       "      <th>32</th>\n",
       "      <td>M Chinnaswamy Stadium</td>\n",
       "      <td>Kolkata Knight Riders</td>\n",
       "      <td>Royal Challengers Bangalore</td>\n",
       "      <td>61</td>\n",
       "      <td>0</td>\n",
       "      <td>5.1</td>\n",
       "      <td>59</td>\n",
       "      <td>0</td>\n",
       "      <td>222</td>\n",
       "      <td>2008</td>\n",
       "      <td>4</td>\n",
       "      <td>18</td>\n",
       "    </tr>\n",
       "    <tr>\n",
       "      <th>33</th>\n",
       "      <td>M Chinnaswamy Stadium</td>\n",
       "      <td>Kolkata Knight Riders</td>\n",
       "      <td>Royal Challengers Bangalore</td>\n",
       "      <td>61</td>\n",
       "      <td>1</td>\n",
       "      <td>5.2</td>\n",
       "      <td>59</td>\n",
       "      <td>1</td>\n",
       "      <td>222</td>\n",
       "      <td>2008</td>\n",
       "      <td>4</td>\n",
       "      <td>18</td>\n",
       "    </tr>\n",
       "    <tr>\n",
       "      <th>34</th>\n",
       "      <td>M Chinnaswamy Stadium</td>\n",
       "      <td>Kolkata Knight Riders</td>\n",
       "      <td>Royal Challengers Bangalore</td>\n",
       "      <td>61</td>\n",
       "      <td>1</td>\n",
       "      <td>5.3</td>\n",
       "      <td>59</td>\n",
       "      <td>1</td>\n",
       "      <td>222</td>\n",
       "      <td>2008</td>\n",
       "      <td>4</td>\n",
       "      <td>18</td>\n",
       "    </tr>\n",
       "    <tr>\n",
       "      <th>35</th>\n",
       "      <td>M Chinnaswamy Stadium</td>\n",
       "      <td>Kolkata Knight Riders</td>\n",
       "      <td>Royal Challengers Bangalore</td>\n",
       "      <td>61</td>\n",
       "      <td>1</td>\n",
       "      <td>5.4</td>\n",
       "      <td>59</td>\n",
       "      <td>1</td>\n",
       "      <td>222</td>\n",
       "      <td>2008</td>\n",
       "      <td>4</td>\n",
       "      <td>18</td>\n",
       "    </tr>\n",
       "    <tr>\n",
       "      <th>36</th>\n",
       "      <td>M Chinnaswamy Stadium</td>\n",
       "      <td>Kolkata Knight Riders</td>\n",
       "      <td>Royal Challengers Bangalore</td>\n",
       "      <td>61</td>\n",
       "      <td>1</td>\n",
       "      <td>5.5</td>\n",
       "      <td>58</td>\n",
       "      <td>1</td>\n",
       "      <td>222</td>\n",
       "      <td>2008</td>\n",
       "      <td>4</td>\n",
       "      <td>18</td>\n",
       "    </tr>\n",
       "  </tbody>\n",
       "</table>\n",
       "</div>"
      ],
      "text/plain": [
       "                    venue               bat_team                    bowl_team  \\\n",
       "32  M Chinnaswamy Stadium  Kolkata Knight Riders  Royal Challengers Bangalore   \n",
       "33  M Chinnaswamy Stadium  Kolkata Knight Riders  Royal Challengers Bangalore   \n",
       "34  M Chinnaswamy Stadium  Kolkata Knight Riders  Royal Challengers Bangalore   \n",
       "35  M Chinnaswamy Stadium  Kolkata Knight Riders  Royal Challengers Bangalore   \n",
       "36  M Chinnaswamy Stadium  Kolkata Knight Riders  Royal Challengers Bangalore   \n",
       "\n",
       "    runs  wickets  overs  runs_last_5  wickets_last_5  total  Year  Month  \\\n",
       "32    61        0    5.1           59               0    222  2008      4   \n",
       "33    61        1    5.2           59               1    222  2008      4   \n",
       "34    61        1    5.3           59               1    222  2008      4   \n",
       "35    61        1    5.4           59               1    222  2008      4   \n",
       "36    61        1    5.5           58               1    222  2008      4   \n",
       "\n",
       "    Date  \n",
       "32    18  \n",
       "33    18  \n",
       "34    18  \n",
       "35    18  \n",
       "36    18  "
      ]
     },
     "execution_count": 8,
     "metadata": {},
     "output_type": "execute_result"
    }
   ],
   "source": [
    "df.head()"
   ]
  },
  {
   "cell_type": "code",
   "execution_count": 9,
   "metadata": {
    "ExecuteTime": {
     "end_time": "2021-01-12T11:50:45.890480Z",
     "start_time": "2021-01-12T11:50:45.744798Z"
    }
   },
   "outputs": [],
   "source": [
    "encoded_df = pd.get_dummies(data=df, columns=['bat_team', 'bowl_team'],drop_first=True)"
   ]
  },
  {
   "cell_type": "code",
   "execution_count": 10,
   "metadata": {
    "ExecuteTime": {
     "end_time": "2021-01-12T11:50:45.993726Z",
     "start_time": "2021-01-12T11:50:45.893479Z"
    }
   },
   "outputs": [],
   "source": [
    "encoded_df = encoded_df[['Date',\"Month\",'Year', 'bat_team_Delhi Daredevils', 'bat_team_Kings XI Punjab',\n",
    "              'bat_team_Kolkata Knight Riders', 'bat_team_Mumbai Indians', 'bat_team_Rajasthan Royals',\n",
    "              'bat_team_Royal Challengers Bangalore', 'bat_team_Sunrisers Hyderabad',\n",
    "              'bowl_team_Delhi Daredevils', 'bowl_team_Kings XI Punjab',\n",
    "              'bowl_team_Kolkata Knight Riders', 'bowl_team_Mumbai Indians', 'bowl_team_Rajasthan Royals',\n",
    "              'bowl_team_Royal Challengers Bangalore', 'bowl_team_Sunrisers Hyderabad',\n",
    "              'overs', 'runs', 'wickets', 'runs_last_5', 'wickets_last_5', 'total']]"
   ]
  },
  {
   "cell_type": "code",
   "execution_count": 11,
   "metadata": {
    "ExecuteTime": {
     "end_time": "2021-01-12T11:50:46.136455Z",
     "start_time": "2021-01-12T11:50:45.997722Z"
    }
   },
   "outputs": [
    {
     "name": "stdout",
     "output_type": "stream",
     "text": [
      "<class 'pandas.core.frame.DataFrame'>\n",
      "Int64Index: 40108 entries, 32 to 75888\n",
      "Data columns (total 23 columns):\n",
      " #   Column                                 Non-Null Count  Dtype  \n",
      "---  ------                                 --------------  -----  \n",
      " 0   Date                                   40108 non-null  int64  \n",
      " 1   Month                                  40108 non-null  int64  \n",
      " 2   Year                                   40108 non-null  int64  \n",
      " 3   bat_team_Delhi Daredevils              40108 non-null  uint8  \n",
      " 4   bat_team_Kings XI Punjab               40108 non-null  uint8  \n",
      " 5   bat_team_Kolkata Knight Riders         40108 non-null  uint8  \n",
      " 6   bat_team_Mumbai Indians                40108 non-null  uint8  \n",
      " 7   bat_team_Rajasthan Royals              40108 non-null  uint8  \n",
      " 8   bat_team_Royal Challengers Bangalore   40108 non-null  uint8  \n",
      " 9   bat_team_Sunrisers Hyderabad           40108 non-null  uint8  \n",
      " 10  bowl_team_Delhi Daredevils             40108 non-null  uint8  \n",
      " 11  bowl_team_Kings XI Punjab              40108 non-null  uint8  \n",
      " 12  bowl_team_Kolkata Knight Riders        40108 non-null  uint8  \n",
      " 13  bowl_team_Mumbai Indians               40108 non-null  uint8  \n",
      " 14  bowl_team_Rajasthan Royals             40108 non-null  uint8  \n",
      " 15  bowl_team_Royal Challengers Bangalore  40108 non-null  uint8  \n",
      " 16  bowl_team_Sunrisers Hyderabad          40108 non-null  uint8  \n",
      " 17  overs                                  40108 non-null  float64\n",
      " 18  runs                                   40108 non-null  int64  \n",
      " 19  wickets                                40108 non-null  int64  \n",
      " 20  runs_last_5                            40108 non-null  int64  \n",
      " 21  wickets_last_5                         40108 non-null  int64  \n",
      " 22  total                                  40108 non-null  int64  \n",
      "dtypes: float64(1), int64(8), uint8(14)\n",
      "memory usage: 3.6 MB\n"
     ]
    }
   ],
   "source": [
    "encoded_df.info()\n"
   ]
  },
  {
   "cell_type": "code",
   "execution_count": 12,
   "metadata": {
    "ExecuteTime": {
     "end_time": "2021-01-12T11:50:46.295840Z",
     "start_time": "2021-01-12T11:50:46.140438Z"
    }
   },
   "outputs": [],
   "source": [
    "X_train = encoded_df.drop(labels='total', axis=1)[encoded_df['Year']<= 2016]\n",
    "X_test = encoded_df.drop(labels='total', axis=1)[encoded_df['Year']>= 2017]"
   ]
  },
  {
   "cell_type": "code",
   "execution_count": 13,
   "metadata": {
    "ExecuteTime": {
     "end_time": "2021-01-12T11:50:46.448530Z",
     "start_time": "2021-01-12T11:50:46.297803Z"
    }
   },
   "outputs": [],
   "source": [
    "y_train = encoded_df[encoded_df['Year']<= 2016]['total'].values\n",
    "y_test = encoded_df[encoded_df['Year']>= 2017]['total'].values"
   ]
  },
  {
   "cell_type": "code",
   "execution_count": 14,
   "metadata": {
    "ExecuteTime": {
     "end_time": "2021-01-12T11:50:46.617809Z",
     "start_time": "2021-01-12T11:50:46.452452Z"
    }
   },
   "outputs": [],
   "source": [
    "X_train.drop(['Month','Year','Date'],axis=1, inplace=True)\n",
    "X_test.drop(['Month','Year','Date'], axis=1, inplace=True)\n"
   ]
  },
  {
   "cell_type": "code",
   "execution_count": 15,
   "metadata": {
    "ExecuteTime": {
     "end_time": "2021-01-12T11:50:47.229458Z",
     "start_time": "2021-01-12T11:50:46.624806Z"
    }
   },
   "outputs": [],
   "source": [
    "from sklearn.model_selection import cross_val_score\n",
    "from sklearn.linear_model import LinearRegression,Lasso\n",
    "from sklearn.linear_model import ridge_regression\n",
    "from sklearn.tree import DecisionTreeRegressor\n",
    "from sklearn.svm import SVR\n"
   ]
  },
  {
   "cell_type": "code",
   "execution_count": 16,
   "metadata": {
    "ExecuteTime": {
     "end_time": "2021-01-12T11:50:48.417776Z",
     "start_time": "2021-01-12T11:50:47.234457Z"
    }
   },
   "outputs": [
    {
     "name": "stdout",
     "output_type": "stream",
     "text": [
      "lr  : 0.6134612150654338\n",
      "Lasso    : 0.6230862089983339\n",
      "DecisionTreeRegressor   : 0.23001623709495858\n"
     ]
    }
   ],
   "source": [
    "lr =LinearRegression()\n",
    "print( \"lr  :\",cross_val_score(lr, X_train, y_train, cv=3).mean())\n",
    "\n",
    "lasso =Lasso()\n",
    "print('Lasso    :',cross_val_score(lasso, X_train, y_train, cv=3).mean())\n",
    "DecisionTreeRegressor =DecisionTreeRegressor()\n",
    "print(\"DecisionTreeRegressor   :\",cross_val_score(DecisionTreeRegressor, X_train, y_train, cv=3).mean())"
   ]
  },
  {
   "cell_type": "code",
   "execution_count": 17,
   "metadata": {
    "ExecuteTime": {
     "end_time": "2021-01-12T11:50:48.427791Z",
     "start_time": "2021-01-12T11:50:48.423776Z"
    }
   },
   "outputs": [],
   "source": [
    "lasso_params = {'alpha':[0.02, 0.024, 0.025, 0.026, 0.03]}\n",
    "from sklearn.model_selection import RandomizedSearchCV"
   ]
  },
  {
   "cell_type": "code",
   "execution_count": 26,
   "metadata": {
    "ExecuteTime": {
     "end_time": "2021-01-12T11:53:12.473269Z",
     "start_time": "2021-01-12T11:53:12.467273Z"
    }
   },
   "outputs": [],
   "source": [
    "grid=RandomizedSearchCV(lasso,param_distributions=lasso_params,n_jobs=2,cv=5,verbose=2,n_iter=5)"
   ]
  },
  {
   "cell_type": "code",
   "execution_count": 27,
   "metadata": {
    "ExecuteTime": {
     "end_time": "2021-01-12T11:53:13.081636Z",
     "start_time": "2021-01-12T11:53:13.073638Z"
    }
   },
   "outputs": [
    {
     "data": {
      "text/plain": [
       "<bound method BaseEstimator.get_params of RandomizedSearchCV(cv=5, estimator=Lasso(), n_iter=5, n_jobs=2,\n",
       "                   param_distributions={'alpha': [0.02, 0.024, 0.025, 0.026,\n",
       "                                                  0.03]},\n",
       "                   verbose=2)>"
      ]
     },
     "execution_count": 27,
     "metadata": {},
     "output_type": "execute_result"
    }
   ],
   "source": [
    "grid.get_params"
   ]
  },
  {
   "cell_type": "code",
   "execution_count": 28,
   "metadata": {
    "ExecuteTime": {
     "end_time": "2021-01-12T11:53:23.943546Z",
     "start_time": "2021-01-12T11:53:13.567418Z"
    }
   },
   "outputs": [
    {
     "name": "stdout",
     "output_type": "stream",
     "text": [
      "Fitting 5 folds for each of 5 candidates, totalling 25 fits\n"
     ]
    },
    {
     "name": "stderr",
     "output_type": "stream",
     "text": [
      "[Parallel(n_jobs=2)]: Using backend LokyBackend with 2 concurrent workers.\n",
      "[Parallel(n_jobs=2)]: Done  25 out of  25 | elapsed:    9.6s finished\n"
     ]
    },
    {
     "data": {
      "text/plain": [
       "RandomizedSearchCV(cv=5, estimator=Lasso(), n_iter=5, n_jobs=2,\n",
       "                   param_distributions={'alpha': [0.02, 0.024, 0.025, 0.026,\n",
       "                                                  0.03]},\n",
       "                   verbose=2)"
      ]
     },
     "execution_count": 28,
     "metadata": {},
     "output_type": "execute_result"
    }
   ],
   "source": [
    "grid.fit(X_train,y_train)"
   ]
  },
  {
   "cell_type": "code",
   "execution_count": 29,
   "metadata": {
    "ExecuteTime": {
     "end_time": "2021-01-12T11:53:31.649540Z",
     "start_time": "2021-01-12T11:53:31.642537Z"
    }
   },
   "outputs": [
    {
     "data": {
      "text/plain": [
       "{'alpha': 0.03}"
      ]
     },
     "execution_count": 29,
     "metadata": {},
     "output_type": "execute_result"
    }
   ],
   "source": [
    "grid.best_params_"
   ]
  },
  {
   "cell_type": "code",
   "execution_count": 31,
   "metadata": {
    "ExecuteTime": {
     "end_time": "2021-01-12T11:53:59.856589Z",
     "start_time": "2021-01-12T11:53:59.845594Z"
    }
   },
   "outputs": [],
   "source": [
    "pred=grid.predict(X_test)"
   ]
  },
  {
   "cell_type": "code",
   "execution_count": 32,
   "metadata": {
    "ExecuteTime": {
     "end_time": "2021-01-12T11:55:05.249336Z",
     "start_time": "2021-01-12T11:55:03.957481Z"
    }
   },
   "outputs": [
    {
     "name": "stderr",
     "output_type": "stream",
     "text": [
      "c:\\users\\all\\appdata\\local\\programs\\python\\python38\\lib\\site-packages\\seaborn\\distributions.py:2557: FutureWarning: `distplot` is a deprecated function and will be removed in a future version. Please adapt your code to use either `displot` (a figure-level function with similar flexibility) or `histplot` (an axes-level function for histograms).\n",
      "  warnings.warn(msg, FutureWarning)\n"
     ]
    },
    {
     "data": {
      "text/plain": [
       "<AxesSubplot:ylabel='Density'>"
      ]
     },
     "execution_count": 32,
     "metadata": {},
     "output_type": "execute_result"
    },
    {
     "data": {
      "image/png": "[encoded data removed]",
      "text/plain": [
       "<Figure size 432x288 with 1 Axes>"
      ]
     },
     "metadata": {
      "needs_background": "light"
     },
     "output_type": "display_data"
    }
   ],
   "source": [
    "sns.distplot(y_test-pred)"
   ]
  },
  {
   "cell_type": "code",
   "execution_count": 33,
   "metadata": {
    "ExecuteTime": {
     "end_time": "2021-01-12T11:56:19.547092Z",
     "start_time": "2021-01-12T11:56:19.539074Z"
    }
   },
   "outputs": [],
   "source": [
    "import pickle\n",
    "file='ipl_score.pkl'\n",
    "pickle.dump(grid,open(file,'wb'))"
   ]
  },
  {
   "cell_type": "code",
   "execution_count": 34,
   "metadata": {
    "ExecuteTime": {
     "end_time": "2021-01-12T11:56:52.807680Z",
     "start_time": "2021-01-12T11:56:52.802682Z"
    }
   },
   "outputs": [],
   "source": [
    "model=open('ipl_score.pkl','rb')"
   ]
  },
  {
   "cell_type": "code",
   "execution_count": 35,
   "metadata": {
    "ExecuteTime": {
     "end_time": "2021-01-12T11:57:10.865183Z",
     "start_time": "2021-01-12T11:57:10.846191Z"
    }
   },
   "outputs": [],
   "source": [
    "forest=pickle.load(model)"
   ]
  },
  {
   "cell_type": "code",
   "execution_count": 36,
   "metadata": {
    "ExecuteTime": {
     "end_time": "2021-01-12T11:57:22.745483Z",
     "start_time": "2021-01-12T11:57:22.734469Z"
    }
   },
   "outputs": [
    {
     "data": {
      "text/plain": [
       "array([171.93268218, 175.09870647, 174.48452527, ..., 100.80395093,\n",
       "       100.21065783,  93.56728173])"
      ]
     },
     "execution_count": 36,
     "metadata": {},
     "output_type": "execute_result"
    }
   ],
   "source": [
    "forest.predict(X_test)"
   ]
  },
  {
   "cell_type": "code",
   "execution_count": null,
   "metadata": {},
   "outputs": [],
   "source": []
  }
 ],
 "metadata": {
  "kernelspec": {
   "display_name": "Python 3",
   "language": "python",
   "name": "python3"
  },
  "language_info": {
   "codemirror_mode": {
    "name": "ipython",
    "version": 3
   },
   "file_extension": ".py",
   "mimetype": "text/x-python",
   "name": "python",
   "nbconvert_exporter": "python",
   "pygments_lexer": "ipython3",
   "version": "3.8.5"
  }
 },
 "nbformat": 4,
 "nbformat_minor": 4
}
